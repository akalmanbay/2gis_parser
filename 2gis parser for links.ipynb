{
 "cells": [
  {
   "cell_type": "code",
   "execution_count": 2,
   "metadata": {},
   "outputs": [],
   "source": [
    "from bs4 import BeautifulSoup\n",
    "import requests\n",
    "import csv\n",
    "from urllib.request import Request, urlopen\n",
    "import urllib\n",
    "import json\n",
    "import re\n",
    "import pandas as pd\n",
    "import time\n",
    "from selenium import webdriver\n",
    "import sys\n",
    "import numpy as np\n",
    "\n",
    "import selenium.webdriver as webdriver\n",
    "import selenium.webdriver.support.ui as ui\n",
    "from selenium.webdriver.common.keys import Keys\n",
    "from time import sleep"
   ]
  },
  {
   "cell_type": "code",
   "execution_count": 3,
   "metadata": {},
   "outputs": [],
   "source": [
    "header = {\"user-agent\": \"Mozilla/5.0 (Windows NT 10.0; Win64; x64) AppleWebKit/537.36 (KHTML, like Gecko) Chrome/74.0.3729.169 Safari/537.36\" ,'referer':'https://www.google.com/'}"
   ]
  },
  {
   "cell_type": "markdown",
   "metadata": {},
   "source": [
    "## Defined functions"
   ]
  },
  {
   "cell_type": "code",
   "execution_count": 25,
   "metadata": {},
   "outputs": [],
   "source": [
    "# Функция, которая собирает ссылки на каждое заведение со страницы субкатегории\n",
    "# Вход: driver страницы категории\n",
    "# Выход: список ссылок на отдельные заведения\n",
    "\n",
    "def getlinks_subcat(driver_links):\n",
    "\n",
    "    i = 1\n",
    "    links = []\n",
    "\n",
    "    while True:\n",
    "        i = i+1\n",
    "\n",
    "        time.sleep(2)\n",
    "        try:\n",
    "            #Selenium hands the page source to Beautiful Soup\n",
    "            soup=BeautifulSoup(driver_links.page_source, 'lxml')\n",
    "            links_t = soup.find_all('div',class_=\"_1h3cgic\")\n",
    "            #generate list of links\n",
    "            for link in links_t:\n",
    "                vid_id = link.find('a')['href']\n",
    "                place_link = f'https://2gis.kz{vid_id}'\n",
    "                links.append(place_link)\n",
    "            \n",
    "            \n",
    "            button = driver_links.find_element_by_xpath(\"//span[contains(@class, '_19xy60y') and text()='%s']\" % str(i))\n",
    "            time.sleep(1)\n",
    "            button.click()\n",
    "\n",
    "\n",
    "        except:\n",
    "            print(\"An exception occurred: end of the loop\")\n",
    "            break\n",
    "    print('# of links:',len(links), '\\n', '# of unique links:', pd.DataFrame(links).nunique())\n",
    "    return links"
   ]
  },
  {
   "cell_type": "code",
   "execution_count": 4,
   "metadata": {},
   "outputs": [],
   "source": [
    "def getlinks_cat(cat_dict, driver):\n",
    "    url_base = \"https://2gis.kz/nur_sultan/search/\"\n",
    "    dict_of_links = {}\n",
    "\n",
    "    for cat, subcat in cat_dict.items():\n",
    "        for name in subcat:\n",
    "            url = url_base+str(name).replace(' ', '%20')\n",
    "            driver.get(url)\n",
    "            links = getlinks_subcat(driver)\n",
    "            dict_of_links[str(name)] = links\n",
    "    return dict_of_links\n"
   ]
  },
  {
   "cell_type": "markdown",
   "metadata": {},
   "source": [
    "## Main"
   ]
  },
  {
   "cell_type": "code",
   "execution_count": 1,
   "metadata": {},
   "outputs": [],
   "source": [
    "poest_dict = { 'poest': ['Кафе', \"Рестораны\", \"Бары\", \"Быстрое питание\", \"Кофейни\",\n",
    "                  \"Готовые блюда\", \"Пиццерии\", \"Столовые\", \"Суши-бары\"]}\n",
    "\n",
    "razvl_dict = {'razvlecheniya':['Кинотеатры', \"Караоке\", \"Антикафе\", \"Музеи\", \"Библиотеки\", \n",
    "                               \"Театры\", \"Художественные выставки\", \"Парки культуры и отдыха\", \n",
    "                               \"Концертные залы\"]}\n",
    "\n",
    "med_dict = {'medicina': [\"Аптеки\", \"Стоматологии\", \"Мед.центры\", \"Анализы\", \"Больницы\",\n",
    "                        \"Диагностические центры\", \"Детские специалисты\"]}\n",
    "\n",
    "prod_dict = {'produkty': [\"Супермаркеты\", \"Гипермаркеты\", \"Продуктовые магазины\"]}\n",
    "\n",
    "sport_dict = {'sport': [\"Фитнес-клубы\",\"Тренажёрные залы\",\"Секции\",\"Бассейны\",\"Стадионы\"]}\n",
    "\n",
    "edu_dict = {'edu': [\"Гимназии\",\"Лицеи\",\"Лицей-интернаты\",\"Начальные школы\",\n",
    "                    \"Школы\",\"Школы-интернаты\",\"Детские сады\",\"Частные детские сады\",\"Развитие детей\",\n",
    "                   \"Колледжи\", \"Университеты\", \"Институты\",\"Академии\"]}\n",
    "\n",
    "gov_dict={'gov': ['Суды', \"Судебная и внесудебная экспертиза\",\"Отделения полиции\",\"Участковые пункты полиции\",\n",
    "                  \"ОМВД, УМВД, ГУМВД, МВД\",\"Прокуратуры\",\"Следственный комитет\", \"Цон\", \"Социальные службы\",\n",
    "                  \"Службы занятости\", \"Налоговые инспекции\", \"Законодательная власть\",\n",
    "                  \"Акимат города\", \"Маслихат города\", \"Акиматы поселений города\", \"Посольства, консульства\",\n",
    "                  \"Государственные службы\"]}"
   ]
  },
  {
   "cell_type": "markdown",
   "metadata": {},
   "source": [
    "### Parsing links from 2gis"
   ]
  },
  {
   "cell_type": "code",
   "execution_count": 34,
   "metadata": {},
   "outputs": [],
   "source": [
    "driver = webdriver.Chrome(executable_path='/Users/user/.wdm/drivers/chromedriver/mac64/87.0.4280.88/chromedriver')"
   ]
  },
  {
   "cell_type": "code",
   "execution_count": 20,
   "metadata": {},
   "outputs": [],
   "source": [
    "# sport_links = getlinks_cat(sport_dict, driver)\n",
    "# np.save('sport_links.npy', sport_links)"
   ]
  },
  {
   "cell_type": "code",
   "execution_count": 21,
   "metadata": {},
   "outputs": [],
   "source": [
    "# razvl_links = getlinks_cat(razvl_dict, driver)\n",
    "# np.save('razvl_links.npy', razvl_links)"
   ]
  },
  {
   "cell_type": "code",
   "execution_count": 30,
   "metadata": {},
   "outputs": [],
   "source": [
    "# med_links = getlinks_cat(med_dict, driver)\n",
    "# np.save('med_links.npy', med_links)"
   ]
  },
  {
   "cell_type": "code",
   "execution_count": 33,
   "metadata": {},
   "outputs": [],
   "source": [
    "# poest_links = getlinks_cat(poest_dict, driver)\n",
    "# np.save('poest_links.npy', poest_links)"
   ]
  },
  {
   "cell_type": "code",
   "execution_count": 37,
   "metadata": {},
   "outputs": [],
   "source": [
    "# prod_links = getlinks_cat(prod_dict, driver)\n",
    "# np.save('prod_links.npy', prod_links)"
   ]
  },
  {
   "cell_type": "code",
   "execution_count": 22,
   "metadata": {},
   "outputs": [],
   "source": [
    "# edu_links = getlinks_cat(edu_dict, driver)\n",
    "# np.save('edu_links.npy', edu_links)"
   ]
  },
  {
   "cell_type": "code",
   "execution_count": 23,
   "metadata": {},
   "outputs": [],
   "source": [
    "# gov_links = getlinks_cat(gov_dict, driver)\n",
    "# np.save('gov_links.npy', gov_links)"
   ]
  }
 ],
 "metadata": {
  "kernelspec": {
   "display_name": "Python 3",
   "language": "python",
   "name": "python3"
  },
  "language_info": {
   "codemirror_mode": {
    "name": "ipython",
    "version": 3
   },
   "file_extension": ".py",
   "mimetype": "text/x-python",
   "name": "python",
   "nbconvert_exporter": "python",
   "pygments_lexer": "ipython3",
   "version": "3.7.6"
  }
 },
 "nbformat": 4,
 "nbformat_minor": 4
}
